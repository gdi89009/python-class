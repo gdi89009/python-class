{
 "cells": [
  {
   "cell_type": "markdown",
   "id": "356a3858",
   "metadata": {},
   "source": [
    "# 資料管理者第四章：資料安全與遮蔽\n",
    "介紹如何對敏感欄位進行遮蔽處理與簡單加密。"
   ]
  },
  {
   "cell_type": "markdown",
   "id": "7bbc54c6",
   "metadata": {},
   "source": [
    "## 1. 匯入資料"
   ]
  },
  {
   "cell_type": "code",
   "execution_count": null,
   "id": "28b68819",
   "metadata": {},
   "outputs": [],
   "source": [
    "import pandas as pd\n",
    "\n",
    "df = pd.read_csv('sensitive_data.csv')\n",
    "df.head()"
   ]
  },
  {
   "cell_type": "markdown",
   "id": "de4da6c7",
   "metadata": {},
   "source": [
    "## 2. 遮蔽身分證與手機中間段"
   ]
  },
  {
   "cell_type": "code",
   "execution_count": null,
   "id": "3f907d6d",
   "metadata": {},
   "outputs": [],
   "source": [
    "def mask_id(idn):\n",
    "    return idn[:3] + '****' + idn[-3:]\n",
    "\n",
    "df['id_masked'] = df['id_number'].apply(mask_id)\n",
    "\n",
    "def mask_phone(ph):\n",
    "    return ph[:4] + '***' + ph[-3:]\n",
    "\n",
    "df['phone_masked'] = df['phone'].apply(mask_phone)"
   ]
  },
  {
   "cell_type": "markdown",
   "id": "525fc5a1",
   "metadata": {},
   "source": [
    "## 3. 基本雜湊加密（不可逆）"
   ]
  },
  {
   "cell_type": "code",
   "execution_count": null,
   "id": "22d98845",
   "metadata": {},
   "outputs": [],
   "source": [
    "import hashlib\n",
    "\n",
    "def encrypt_email(email):\n",
    "    return hashlib.sha256(email.encode()).hexdigest()\n",
    "\n",
    "df['email_hash'] = df['email'].apply(encrypt_email)"
   ]
  },
  {
   "cell_type": "markdown",
   "id": "2361b50b",
   "metadata": {},
   "source": [
    "## 4. 輸出處理後的安全資料"
   ]
  },
  {
   "cell_type": "code",
   "execution_count": null,
   "id": "0dc26480",
   "metadata": {},
   "outputs": [],
   "source": [
    "df[['name', 'id_masked', 'phone_masked', 'email_hash']].to_csv('masked_output.csv', index=False)"
   ]
  }
 ],
 "metadata": {},
 "nbformat": 4,
 "nbformat_minor": 5
}