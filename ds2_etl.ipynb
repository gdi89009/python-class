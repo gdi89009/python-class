{
 "cells": [
  {
   "cell_type": "markdown",
   "id": "44f7db9b",
   "metadata": {},
   "source": [
    "# 資料管理者第二章：ETL 流程設計\n",
    "本章示範如何建立簡單的 ETL (Extract-Transform-Load) 流程"
   ]
  },
  {
   "cell_type": "markdown",
   "id": "bbec27f6",
   "metadata": {},
   "source": [
    "## 1. 擷取：讀取原始資料"
   ]
  },
  {
   "cell_type": "code",
   "execution_count": null,
   "id": "8e41f61e",
   "metadata": {},
   "outputs": [],
   "source": [
    "import pandas as pd\n",
    "\n",
    "def extract():\n",
    "    df = pd.read_csv('raw_sales.csv')\n",
    "    return df"
   ]
  },
  {
   "cell_type": "markdown",
   "id": "3b05755a",
   "metadata": {},
   "source": [
    "## 2. 轉換：清理與標準化欄位"
   ]
  },
  {
   "cell_type": "code",
   "execution_count": null,
   "id": "d3a2e8b3",
   "metadata": {},
   "outputs": [],
   "source": [
    "def transform(df):\n",
    "    df['region'] = df['region'].str.upper()\n",
    "    df['amount'] = df['amount'].fillna(0)\n",
    "    return df"
   ]
  },
  {
   "cell_type": "markdown",
   "id": "16f9436a",
   "metadata": {},
   "source": [
    "## 3. 載入：儲存為新的報表"
   ]
  },
  {
   "cell_type": "code",
   "execution_count": null,
   "id": "fcb39ad8",
   "metadata": {},
   "outputs": [],
   "source": [
    "def load(df):\n",
    "    df.to_csv('monthly_sales_report.csv', index=False)"
   ]
  },
  {
   "cell_type": "markdown",
   "id": "c1f50376",
   "metadata": {},
   "source": [
    "## 4. 整合 ETL 流程"
   ]
  },
  {
   "cell_type": "code",
   "execution_count": null,
   "id": "bb206c5a",
   "metadata": {},
   "outputs": [],
   "source": [
    "def run_etl():\n",
    "    raw_data = extract()\n",
    "    cleaned = transform(raw_data)\n",
    "    load(cleaned)\n",
    "    print('ETL completed.')\n",
    "\n",
    "run_etl()"
   ]
  }
 ],
 "metadata": {},
 "nbformat": 4,
 "nbformat_minor": 5
}