{
 "cells": [
  {
   "cell_type": "markdown",
   "id": "459e37bb",
   "metadata": {},
   "source": [
    "# 模型演算者第八章（進階）：模型版本管理與持久化\n",
    "使用 joblib 儲存與載入模型，模擬簡易版本控管流程"
   ]
  },
  {
   "cell_type": "markdown",
   "id": "e5e54b3f",
   "metadata": {},
   "source": [
    "## 1. 訓練模型"
   ]
  },
  {
   "cell_type": "code",
   "execution_count": null,
   "id": "6375190f",
   "metadata": {},
   "outputs": [],
   "source": [
    "import pandas as pd\n",
    "from sklearn.linear_model import LinearRegression\n",
    "from sklearn.model_selection import train_test_split\n",
    "import joblib\n",
    "\n",
    "# 載入資料\n",
    "df = pd.read_csv('versioned_house.csv')\n",
    "X = df[['area']]\n",
    "y = df['price']\n",
    "X_train, X_test, y_train, y_test = train_test_split(X, y, random_state=0)\n",
    "\n",
    "model = LinearRegression()\n",
    "model.fit(X_train, y_train)"
   ]
  },
  {
   "cell_type": "markdown",
   "id": "9574c17e",
   "metadata": {},
   "source": [
    "## 2. 儲存模型"
   ]
  },
  {
   "cell_type": "code",
   "execution_count": null,
   "id": "456bdaa5",
   "metadata": {},
   "outputs": [],
   "source": [
    "joblib.dump(model, 'model_v1.pkl')\n",
    "print('模型已儲存為 model_v1.pkl')"
   ]
  },
  {
   "cell_type": "markdown",
   "id": "5c9273bb",
   "metadata": {},
   "source": [
    "## 3. 載入模型進行預測"
   ]
  },
  {
   "cell_type": "code",
   "execution_count": null,
   "id": "761a5515",
   "metadata": {},
   "outputs": [],
   "source": [
    "loaded_model = joblib.load('model_v1.pkl')\n",
    "y_pred = loaded_model.predict(X_test)\n",
    "print('前五筆預測結果：', y_pred[:5])"
   ]
  },
  {
   "cell_type": "markdown",
   "id": "ff3e2a48",
   "metadata": {},
   "source": [
    "## 4. 模擬版本更新"
   ]
  },
  {
   "cell_type": "code",
   "execution_count": null,
   "id": "6b199210",
   "metadata": {},
   "outputs": [],
   "source": [
    "# 重新訓練模型（例如使用更多資料）\n",
    "model_v2 = LinearRegression()\n",
    "model_v2.fit(X, y)\n",
    "joblib.dump(model_v2, 'model_v2.pkl')\n",
    "print('已建立 model_v2.pkl 作為新版模型')"
   ]
  }
 ],
 "metadata": {},
 "nbformat": 4,
 "nbformat_minor": 5
}