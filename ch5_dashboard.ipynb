{
 "cells": [
  {
   "cell_type": "markdown",
   "id": "b7bef4ad",
   "metadata": {},
   "source": [
    "# 第五章：互動式儀表板\n",
    "本章介紹如何使用 Streamlit 建立簡單的資料儀表板。"
   ]
  },
  {
   "cell_type": "markdown",
   "id": "1f306450",
   "metadata": {},
   "source": [
    "## 1. 安裝與匯入套件"
   ]
  },
  {
   "cell_type": "code",
   "execution_count": null,
   "id": "bddce3ef",
   "metadata": {},
   "outputs": [],
   "source": [
    "# 安裝：在終端輸入 pip install streamlit\n",
    "import streamlit as st\n",
    "import pandas as pd"
   ]
  },
  {
   "cell_type": "markdown",
   "id": "0916967f",
   "metadata": {},
   "source": [
    "## 2. 讀取資料"
   ]
  },
  {
   "cell_type": "code",
   "execution_count": null,
   "id": "63478f3b",
   "metadata": {},
   "outputs": [],
   "source": [
    "df = pd.read_csv('kpi_data.csv')\n",
    "st.dataframe(df)"
   ]
  },
  {
   "cell_type": "markdown",
   "id": "a599df45",
   "metadata": {},
   "source": [
    "## 3. 顯示 KPI 指標"
   ]
  },
  {
   "cell_type": "code",
   "execution_count": null,
   "id": "b78d23ce",
   "metadata": {},
   "outputs": [],
   "source": [
    "st.metric(label='總營收', value=f\"${df['revenue'].sum():,.0f}\")\n",
    "st.metric(label='總客數', value=int(df['customers'].sum()))"
   ]
  },
  {
   "cell_type": "markdown",
   "id": "7599d167",
   "metadata": {},
   "source": [
    "## 4. 繪製趨勢圖"
   ]
  },
  {
   "cell_type": "code",
   "execution_count": null,
   "id": "d8eb4d24",
   "metadata": {},
   "outputs": [],
   "source": [
    "st.line_chart(df.set_index('month')['revenue'])"
   ]
  },
  {
   "cell_type": "markdown",
   "id": "f8f5e2e9",
   "metadata": {},
   "source": [
    "## 5. 篩選互動元件"
   ]
  },
  {
   "cell_type": "code",
   "execution_count": null,
   "id": "568fa63f",
   "metadata": {},
   "outputs": [],
   "source": [
    "selected_month = st.selectbox('選擇月份', df['month'])\n",
    "st.write(df[df['month'] == selected_month])"
   ]
  }
 ],
 "metadata": {},
 "nbformat": 4,
 "nbformat_minor": 5
}