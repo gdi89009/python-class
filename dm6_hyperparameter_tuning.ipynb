{
 "cells": [
  {
   "cell_type": "markdown",
   "id": "0de06d45",
   "metadata": {},
   "source": [
    "# 模型演算者第六章（進階）：模型調參與網格搜尋\n",
    "使用 GridSearchCV/RandomizedSearchCV 對隨機森林進行調參"
   ]
  },
  {
   "cell_type": "markdown",
   "id": "4805c46d",
   "metadata": {},
   "source": [
    "## 1. 匯入套件與資料"
   ]
  },
  {
   "cell_type": "code",
   "execution_count": null,
   "id": "a76ae1be",
   "metadata": {},
   "outputs": [],
   "source": [
    "import pandas as pd\n",
    "from sklearn.ensemble import RandomForestRegressor\n",
    "from sklearn.model_selection import GridSearchCV, RandomizedSearchCV\n",
    "from sklearn.model_selection import train_test_split\n",
    "from sklearn.metrics import mean_squared_error\n",
    "\n",
    "# 載入資料\n",
    "df = pd.read_csv('tune_house.csv')\n",
    "X = df[['area']]\n",
    "y = df['price']"
   ]
  },
  {
   "cell_type": "markdown",
   "id": "6e76d29d",
   "metadata": {},
   "source": [
    "## 2. 建立資料集"
   ]
  },
  {
   "cell_type": "code",
   "execution_count": null,
   "id": "200fe5d2",
   "metadata": {},
   "outputs": [],
   "source": [
    "X_train, X_test, y_train, y_test = train_test_split(X, y, test_size=0.2, random_state=0)"
   ]
  },
  {
   "cell_type": "markdown",
   "id": "723e371f",
   "metadata": {},
   "source": [
    "## 3. 設定參數格與執行 GridSearchCV"
   ]
  },
  {
   "cell_type": "code",
   "execution_count": null,
   "id": "511b22cb",
   "metadata": {},
   "outputs": [],
   "source": [
    "param_grid = {\n",
    "    'n_estimators': [10, 50, 100],\n",
    "    'max_depth': [None, 5, 10]\n",
    "}\n",
    "\n",
    "model = RandomForestRegressor(random_state=0)\n",
    "gs = GridSearchCV(model, param_grid, cv=3, scoring='neg_mean_squared_error')\n",
    "gs.fit(X_train, y_train)\n",
    "print('最佳參數：', gs.best_params_)\n",
    "print('最佳 MSE：', -gs.best_score_)"
   ]
  },
  {
   "cell_type": "markdown",
   "id": "a818eea2",
   "metadata": {},
   "source": [
    "## 4. 評估最佳模型"
   ]
  },
  {
   "cell_type": "code",
   "execution_count": null,
   "id": "af9addc2",
   "metadata": {},
   "outputs": [],
   "source": [
    "y_pred = gs.predict(X_test)\n",
    "print('Test MSE:', mean_squared_error(y_test, y_pred))"
   ]
  }
 ],
 "metadata": {},
 "nbformat": 4,
 "nbformat_minor": 5
}