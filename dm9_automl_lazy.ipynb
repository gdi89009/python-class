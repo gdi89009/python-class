{
 "cells": [
  {
   "cell_type": "markdown",
   "id": "1e4a238c",
   "metadata": {},
   "source": [
    "# 模型演算者第九章（進階）：AutoML 自動建模流程\n",
    "使用 LazyPredict 快速評估多種模型表現"
   ]
  },
  {
   "cell_type": "markdown",
   "id": "c52c7e9d",
   "metadata": {},
   "source": [
    "## 1. 安裝並匯入 LazyPredict"
   ]
  },
  {
   "cell_type": "code",
   "execution_count": null,
   "id": "b3bebeb3",
   "metadata": {},
   "outputs": [],
   "source": [
    "# 安裝套件（需在終端機執行）\n",
    "# pip install lazypredict\n",
    "\n",
    "import pandas as pd\n",
    "from sklearn.model_selection import train_test_split\n",
    "from lazypredict.Supervised import LazyRegressor"
   ]
  },
  {
   "cell_type": "markdown",
   "id": "2e03d1af",
   "metadata": {},
   "source": [
    "## 2. 資料讀取與分割"
   ]
  },
  {
   "cell_type": "code",
   "execution_count": null,
   "id": "ca990e99",
   "metadata": {},
   "outputs": [],
   "source": [
    "df = pd.read_csv('automl_house.csv')\n",
    "X = df[['area']]\n",
    "y = df['price']\n",
    "X_train, X_test, y_train, y_test = train_test_split(X, y, test_size=0.2, random_state=0)"
   ]
  },
  {
   "cell_type": "markdown",
   "id": "17d67aa2",
   "metadata": {},
   "source": [
    "## 3. 使用 LazyRegressor"
   ]
  },
  {
   "cell_type": "code",
   "execution_count": null,
   "id": "a7e28aa5",
   "metadata": {},
   "outputs": [],
   "source": [
    "reg = LazyRegressor(verbose=0, ignore_warnings=True, custom_metric=None)\n",
    "models, predictions = reg.fit(X_train, X_test, y_train, y_test)\n",
    "print(models)"
   ]
  }
 ],
 "metadata": {},
 "nbformat": 4,
 "nbformat_minor": 5
}