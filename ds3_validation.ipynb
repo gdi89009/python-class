{
 "cells": [
  {
   "cell_type": "markdown",
   "id": "b0af78af",
   "metadata": {},
   "source": [
    "# 資料管理者第三章：資料驗證與品質檢查\n",
    "使用 pandas 與自訂邏輯驗證資料完整性與品質"
   ]
  },
  {
   "cell_type": "markdown",
   "id": "fb43f7a9",
   "metadata": {},
   "source": [
    "## 1. 匯入資料與檢查空值"
   ]
  },
  {
   "cell_type": "code",
   "execution_count": null,
   "id": "88eb6ce6",
   "metadata": {},
   "outputs": [],
   "source": [
    "import pandas as pd\n",
    "\n",
    "df = pd.read_csv('product_inventory.csv')\n",
    "print(df.isnull().sum())"
   ]
  },
  {
   "cell_type": "markdown",
   "id": "f5339b74",
   "metadata": {},
   "source": [
    "## 2. 驗證數值範圍"
   ]
  },
  {
   "cell_type": "code",
   "execution_count": null,
   "id": "e1d6f7b9",
   "metadata": {},
   "outputs": [],
   "source": [
    "invalid_price = df[df['price'] <= 0]\n",
    "print('價格異常筆數:', len(invalid_price))"
   ]
  },
  {
   "cell_type": "markdown",
   "id": "96157b08",
   "metadata": {},
   "source": [
    "## 3. 驗證類別欄位合法性"
   ]
  },
  {
   "cell_type": "code",
   "execution_count": null,
   "id": "b01cc3ac",
   "metadata": {},
   "outputs": [],
   "source": [
    "valid_categories = ['A', 'B', 'C']\n",
    "invalid_cat = df[~df['category'].isin(valid_categories)]\n",
    "print('無效分類筆數:', len(invalid_cat))"
   ]
  },
  {
   "cell_type": "markdown",
   "id": "2ce4041e",
   "metadata": {},
   "source": [
    "## 4. 檢查重複與主鍵唯一性"
   ]
  },
  {
   "cell_type": "code",
   "execution_count": null,
   "id": "b5cb7670",
   "metadata": {},
   "outputs": [],
   "source": [
    "duplicate_ids = df[df.duplicated('product_id')]\n",
    "print('重複商品ID數:', len(duplicate_ids))"
   ]
  },
  {
   "cell_type": "markdown",
   "id": "ae4678b0",
   "metadata": {},
   "source": [
    "## 5. 建立簡單驗證報表"
   ]
  },
  {
   "cell_type": "code",
   "execution_count": null,
   "id": "c8ca9624",
   "metadata": {},
   "outputs": [],
   "source": [
    "report = pd.DataFrame({\n",
    "    '異常類型': ['空值', '價格<=0', '無效分類', '重複ID'],\n",
    "    '筆數': [\n",
    "        df.isnull().sum().sum(),\n",
    "        len(invalid_price),\n",
    "        len(invalid_cat),\n",
    "        len(duplicate_ids)\n",
    "    ]\n",
    "})\n",
    "print(report)"
   ]
  }
 ],
 "metadata": {},
 "nbformat": 4,
 "nbformat_minor": 5
}