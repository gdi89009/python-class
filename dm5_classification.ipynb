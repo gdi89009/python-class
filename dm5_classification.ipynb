{
 "cells": [
  {
   "cell_type": "markdown",
   "id": "1fd432c3",
   "metadata": {},
   "source": [
    "# 模型演算者第五章（進階）：分類模型與混淆矩陣\n",
    "使用 sklearn 訓練分類模型並進行評估"
   ]
  },
  {
   "cell_type": "markdown",
   "id": "c7e00b97",
   "metadata": {},
   "source": [
    "## 1. 匯入資料與套件"
   ]
  },
  {
   "cell_type": "code",
   "execution_count": null,
   "id": "878b4570",
   "metadata": {},
   "outputs": [],
   "source": [
    "import pandas as pd\n",
    "from sklearn.model_selection import train_test_split\n",
    "from sklearn.ensemble import RandomForestClassifier\n",
    "from sklearn.metrics import classification_report, confusion_matrix, ConfusionMatrixDisplay\n",
    "import matplotlib.pyplot as plt\n",
    "\n",
    "# 載入資料\n",
    "df = pd.read_csv('customer_churn.csv')\n",
    "X = df[['monthly_fee', 'months_with_company']]\n",
    "y = df['churn']"
   ]
  },
  {
   "cell_type": "markdown",
   "id": "69be4dce",
   "metadata": {},
   "source": [
    "## 2. 資料分割"
   ]
  },
  {
   "cell_type": "code",
   "execution_count": null,
   "id": "1fd928b2",
   "metadata": {},
   "outputs": [],
   "source": [
    "X_train, X_test, y_train, y_test = train_test_split(X, y, test_size=0.3, random_state=42)"
   ]
  },
  {
   "cell_type": "markdown",
   "id": "e0a5054d",
   "metadata": {},
   "source": [
    "## 3. 建立並訓練模型"
   ]
  },
  {
   "cell_type": "code",
   "execution_count": null,
   "id": "c3c89d3d",
   "metadata": {},
   "outputs": [],
   "source": [
    "clf = RandomForestClassifier(random_state=42)\n",
    "clf.fit(X_train, y_train)"
   ]
  },
  {
   "cell_type": "markdown",
   "id": "e0ca810c",
   "metadata": {},
   "source": [
    "## 4. 預測與評估"
   ]
  },
  {
   "cell_type": "code",
   "execution_count": null,
   "id": "c39f2d69",
   "metadata": {},
   "outputs": [],
   "source": [
    "y_pred = clf.predict(X_test)\n",
    "print(classification_report(y_test, y_pred))\n",
    "\n",
    "cm = confusion_matrix(y_test, y_pred)\n",
    "disp = ConfusionMatrixDisplay(confusion_matrix=cm, display_labels=clf.classes_)\n",
    "disp.plot(cmap='Blues')\n",
    "plt.title('混淆矩陣')\n",
    "plt.tight_layout()\n",
    "plt.savefig('confusion_matrix.png')\n",
    "plt.show()"
   ]
  }
 ],
 "metadata": {},
 "nbformat": 4,
 "nbformat_minor": 5
}