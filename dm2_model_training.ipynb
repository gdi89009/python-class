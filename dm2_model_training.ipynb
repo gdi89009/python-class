{
 "cells": [
  {
   "cell_type": "markdown",
   "id": "dfe4248b",
   "metadata": {},
   "source": [
    "# 模型演算者第二章：模型訓練與評估\n",
    "使用 sklearn 建立回歸模型並評估效能"
   ]
  },
  {
   "cell_type": "markdown",
   "id": "8dac99c3",
   "metadata": {},
   "source": [
    "## 1. 匯入資料與套件"
   ]
  },
  {
   "cell_type": "code",
   "execution_count": null,
   "id": "c4e4a1b7",
   "metadata": {},
   "outputs": [],
   "source": [
    "import pandas as pd\n",
    "from sklearn.linear_model import LinearRegression\n",
    "from sklearn.metrics import mean_squared_error, r2_score\n",
    "from sklearn.model_selection import train_test_split\n",
    "\n",
    "# 載入處理後資料\n",
    "df = pd.read_csv('house_data_processed.csv')"
   ]
  },
  {
   "cell_type": "markdown",
   "id": "7d22e9f9",
   "metadata": {},
   "source": [
    "## 2. 準備訓練與測試資料"
   ]
  },
  {
   "cell_type": "code",
   "execution_count": null,
   "id": "4c17898e",
   "metadata": {},
   "outputs": [],
   "source": [
    "X = df[['area']]\n",
    "y = df['price']\n",
    "X_train, X_test, y_train, y_test = train_test_split(X, y, test_size=0.2, random_state=42)"
   ]
  },
  {
   "cell_type": "markdown",
   "id": "7ea72a1a",
   "metadata": {},
   "source": [
    "## 3. 建立並訓練模型"
   ]
  },
  {
   "cell_type": "code",
   "execution_count": null,
   "id": "d229a5cf",
   "metadata": {},
   "outputs": [],
   "source": [
    "model = LinearRegression()\n",
    "model.fit(X_train, y_train)"
   ]
  },
  {
   "cell_type": "markdown",
   "id": "e215632d",
   "metadata": {},
   "source": [
    "## 4. 模型預測與評估"
   ]
  },
  {
   "cell_type": "code",
   "execution_count": null,
   "id": "19c3c420",
   "metadata": {},
   "outputs": [],
   "source": [
    "y_pred = model.predict(X_test)\n",
    "print('MSE:', mean_squared_error(y_test, y_pred))\n",
    "print('R2:', r2_score(y_test, y_pred))"
   ]
  },
  {
   "cell_type": "markdown",
   "id": "293df9ce",
   "metadata": {},
   "source": [
    "## 5. 檢視模型係數"
   ]
  },
  {
   "cell_type": "code",
   "execution_count": null,
   "id": "72c20d47",
   "metadata": {},
   "outputs": [],
   "source": [
    "print('迴歸係數:', model.coef_)\n",
    "print('截距:', model.intercept_)"
   ]
  }
 ],
 "metadata": {},
 "nbformat": 4,
 "nbformat_minor": 5
}