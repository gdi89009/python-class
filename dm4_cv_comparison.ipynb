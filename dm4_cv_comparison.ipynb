{
 "cells": [
  {
   "cell_type": "markdown",
   "id": "8f0d33bf",
   "metadata": {},
   "source": [
    "# 模型演算者第四章：交叉驗證與模型比較\n",
    "比較多種模型效能，使用交叉驗證提升評估穩定性"
   ]
  },
  {
   "cell_type": "markdown",
   "id": "31f782ea",
   "metadata": {},
   "source": [
    "## 1. 匯入套件與資料"
   ]
  },
  {
   "cell_type": "code",
   "execution_count": null,
   "id": "27cd00a6",
   "metadata": {},
   "outputs": [],
   "source": [
    "import pandas as pd\n",
    "from sklearn.model_selection import cross_val_score\n",
    "from sklearn.linear_model import LinearRegression\n",
    "from sklearn.tree import DecisionTreeRegressor\n",
    "from sklearn.ensemble import RandomForestRegressor\n",
    "\n",
    "# 載入資料\n",
    "df = pd.read_csv('house_data_processed.csv')\n",
    "X = df[['area']]\n",
    "y = df['price']"
   ]
  },
  {
   "cell_type": "markdown",
   "id": "c8b761a7",
   "metadata": {},
   "source": [
    "## 2. 定義模型"
   ]
  },
  {
   "cell_type": "code",
   "execution_count": null,
   "id": "377ea1df",
   "metadata": {},
   "outputs": [],
   "source": [
    "models = {\n",
    "    'LinearRegression': LinearRegression(),\n",
    "    'DecisionTree': DecisionTreeRegressor(random_state=42),\n",
    "    'RandomForest': RandomForestRegressor(random_state=42)\n",
    "}"
   ]
  },
  {
   "cell_type": "markdown",
   "id": "13d21fec",
   "metadata": {},
   "source": [
    "## 3. 進行交叉驗證"
   ]
  },
  {
   "cell_type": "code",
   "execution_count": null,
   "id": "df61c427",
   "metadata": {},
   "outputs": [],
   "source": [
    "for name, model in models.items():\n",
    "    scores = cross_val_score(model, X, y, scoring='neg_mean_squared_error', cv=3)\n",
    "    print(f'{name}: MSE 平均 {-scores.mean():.2f}')"
   ]
  },
  {
   "cell_type": "markdown",
   "id": "56dc017e",
   "metadata": {},
   "source": [
    "## 4. 結論"
   ]
  },
  {
   "cell_type": "markdown",
   "id": "02c2f455",
   "metadata": {},
   "source": [
    "根據交叉驗證的平均誤差分數，我們可選擇最佳模型進行後續部署。"
   ]
  }
 ],
 "metadata": {},
 "nbformat": 4,
 "nbformat_minor": 5
}