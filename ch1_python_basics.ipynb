{
 "cells": [
  {
   "cell_type": "markdown",
   "id": "09fe5f00",
   "metadata": {},
   "source": [
    "# 第一章：Python 基礎語法\n",
    "本章將介紹 Python 的資料型別、流程控制、函式定義與應用，並以 BMI 計算作為綜合範例。"
   ]
  },
  {
   "cell_type": "markdown",
   "id": "244485b2",
   "metadata": {},
   "source": [
    "## 資料型別與變數"
   ]
  },
  {
   "cell_type": "code",
   "execution_count": null,
   "id": "508f39d8",
   "metadata": {},
   "outputs": [],
   "source": [
    "x = 10  # int\n",
    "y = 3.14  # float\n",
    "name = 'Alice'  # str\n",
    "is_passed = True  # bool\n",
    "print(type(x), type(name))"
   ]
  },
  {
   "cell_type": "markdown",
   "id": "a4a47bc3",
   "metadata": {},
   "source": [
    "## 流程控制"
   ]
  },
  {
   "cell_type": "code",
   "execution_count": null,
   "id": "94d24ae6",
   "metadata": {},
   "outputs": [],
   "source": [
    "score = 85\n",
    "if score >= 90:\n",
    "    print('優秀')\n",
    "elif score >= 60:\n",
    "    print('及格')\n",
    "else:\n",
    "    print('不及格')"
   ]
  },
  {
   "cell_type": "markdown",
   "id": "408289ca",
   "metadata": {},
   "source": [
    "## 函式定義與呼叫"
   ]
  },
  {
   "cell_type": "code",
   "execution_count": null,
   "id": "18dec848",
   "metadata": {},
   "outputs": [],
   "source": [
    "def greet(name):\n",
    "    return f'Hello, {name}!'\n",
    "\n",
    "print(greet('Mary'))"
   ]
  },
  {
   "cell_type": "markdown",
   "id": "da849de9",
   "metadata": {},
   "source": [
    "## 綜合實作：BMI 計算"
   ]
  },
  {
   "cell_type": "code",
   "execution_count": null,
   "id": "b74799ca",
   "metadata": {},
   "outputs": [],
   "source": [
    "def calculate_bmi(weight, height):\n",
    "    bmi = weight / (height ** 2)\n",
    "    if bmi < 18.5:\n",
    "        return f'BMI={bmi:.1f} 過輕'\n",
    "    elif bmi < 24:\n",
    "        return f'BMI={bmi:.1f} 正常'\n",
    "    else:\n",
    "        return f'BMI={bmi:.1f} 過重'\n",
    "\n",
    "print(calculate_bmi(65, 1.75))"
   ]
  },
  {
   "cell_type": "markdown",
   "id": "560ef3ed",
   "metadata": {},
   "source": [
    "## 延伸練習：批次計算 BMI"
   ]
  },
  {
   "cell_type": "code",
   "execution_count": null,
   "id": "0c533bcb",
   "metadata": {},
   "outputs": [],
   "source": [
    "data = [(60, 1.65), (72, 1.70), (50, 1.55)]\n",
    "for weight, height in data:\n",
    "    print(calculate_bmi(weight, height))"
   ]
  }
 ],
 "metadata": {},
 "nbformat": 4,
 "nbformat_minor": 5
}