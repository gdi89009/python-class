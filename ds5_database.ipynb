{
 "cells": [
  {
   "cell_type": "markdown",
   "id": "c095bf90",
   "metadata": {},
   "source": [
    "# 資料管理者第五章：資料庫操作\n",
    "學習如何使用 Python 連接 SQLite 資料庫，進行查詢與更新"
   ]
  },
  {
   "cell_type": "markdown",
   "id": "937055c2",
   "metadata": {},
   "source": [
    "## 1. 建立資料庫連線"
   ]
  },
  {
   "cell_type": "code",
   "execution_count": null,
   "id": "c441d3d1",
   "metadata": {},
   "outputs": [],
   "source": [
    "import sqlite3\n",
    "conn = sqlite3.connect('customer_db.sqlite')\n",
    "cursor = conn.cursor()"
   ]
  },
  {
   "cell_type": "markdown",
   "id": "93733423",
   "metadata": {},
   "source": [
    "## 2. 建立資料表"
   ]
  },
  {
   "cell_type": "code",
   "execution_count": null,
   "id": "b1a77224",
   "metadata": {},
   "outputs": [],
   "source": [
    "cursor.execute('''\n",
    "CREATE TABLE IF NOT EXISTS customers (\n",
    "    id INTEGER PRIMARY KEY,\n",
    "    name TEXT,\n",
    "    email TEXT\n",
    ")\n",
    "''')\n",
    "conn.commit()"
   ]
  },
  {
   "cell_type": "markdown",
   "id": "6433c8a8",
   "metadata": {},
   "source": [
    "## 3. 插入資料"
   ]
  },
  {
   "cell_type": "code",
   "execution_count": null,
   "id": "e7499b9f",
   "metadata": {},
   "outputs": [],
   "source": [
    "data = [(1, 'Amy', 'amy@mail.com'), (2, 'Bob', 'bob@example.com')]\n",
    "cursor.executemany('INSERT INTO customers VALUES (?, ?, ?)', data)\n",
    "conn.commit()"
   ]
  },
  {
   "cell_type": "markdown",
   "id": "1ff250e1",
   "metadata": {},
   "source": [
    "## 4. 查詢資料"
   ]
  },
  {
   "cell_type": "code",
   "execution_count": null,
   "id": "8280c8c4",
   "metadata": {},
   "outputs": [],
   "source": [
    "df = pd.read_sql('SELECT * FROM customers', conn)\n",
    "df"
   ]
  },
  {
   "cell_type": "markdown",
   "id": "c6cfb079",
   "metadata": {},
   "source": [
    "## 5. 關閉連線"
   ]
  },
  {
   "cell_type": "code",
   "execution_count": null,
   "id": "ec07ffc8",
   "metadata": {},
   "outputs": [],
   "source": [
    "conn.close()"
   ]
  }
 ],
 "metadata": {},
 "nbformat": 4,
 "nbformat_minor": 5
}