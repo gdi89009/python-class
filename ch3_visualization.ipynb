{
 "cells": [
  {
   "cell_type": "markdown",
   "id": "50c6decd",
   "metadata": {},
   "source": [
    "# 第三章：資料視覺化\n",
    "本章將介紹如何使用 Matplotlib 與 Seaborn 進行資料視覺化。"
   ]
  },
  {
   "cell_type": "markdown",
   "id": "f0033245",
   "metadata": {},
   "source": [
    "## 1. 匯入資料與套件"
   ]
  },
  {
   "cell_type": "code",
   "execution_count": null,
   "id": "5e39e7e0",
   "metadata": {},
   "outputs": [],
   "source": [
    "import pandas as pd\n",
    "import matplotlib.pyplot as plt\n",
    "import seaborn as sns\n",
    "\n",
    "df = pd.read_csv('sales_data.csv')\n",
    "df.head()"
   ]
  },
  {
   "cell_type": "markdown",
   "id": "d7210918",
   "metadata": {},
   "source": [
    "## 2. 折線圖：月銷售趨勢"
   ]
  },
  {
   "cell_type": "code",
   "execution_count": null,
   "id": "b3c8c026",
   "metadata": {},
   "outputs": [],
   "source": [
    "plt.plot(df['month'], df['sales'])\n",
    "plt.title('Monthly Sales')\n",
    "plt.xlabel('Month')\n",
    "plt.ylabel('Sales')\n",
    "plt.grid(True)\n",
    "plt.show()"
   ]
  },
  {
   "cell_type": "markdown",
   "id": "94a2a32a",
   "metadata": {},
   "source": [
    "## 3. 長條圖：各產品銷售額"
   ]
  },
  {
   "cell_type": "code",
   "execution_count": null,
   "id": "04720276",
   "metadata": {},
   "outputs": [],
   "source": [
    "sns.barplot(x='product', y='sales', data=df)\n",
    "plt.title('Sales by Product')\n",
    "plt.show()"
   ]
  },
  {
   "cell_type": "markdown",
   "id": "4a07107a",
   "metadata": {},
   "source": [
    "## 4. 散佈圖：廣告費與銷售額關係"
   ]
  },
  {
   "cell_type": "code",
   "execution_count": null,
   "id": "4f4af328",
   "metadata": {},
   "outputs": [],
   "source": [
    "sns.scatterplot(x='ad_cost', y='sales', data=df)\n",
    "plt.title('Ad Cost vs Sales')\n",
    "plt.show()"
   ]
  }
 ],
 "metadata": {},
 "nbformat": 4,
 "nbformat_minor": 5
}