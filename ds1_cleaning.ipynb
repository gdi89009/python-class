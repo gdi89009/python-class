{
 "cells": [
  {
   "cell_type": "markdown",
   "id": "6ffacabe",
   "metadata": {},
   "source": [
    "# 資料管理者第一章：資料清理與標準化\n",
    "本章介紹欄位轉換、資料合併、資料型別與格式標準化等技巧。"
   ]
  },
  {
   "cell_type": "markdown",
   "id": "6d343854",
   "metadata": {},
   "source": [
    "## 1. 匯入資料與檢查欄位"
   ]
  },
  {
   "cell_type": "code",
   "execution_count": null,
   "id": "6743fbb3",
   "metadata": {},
   "outputs": [],
   "source": [
    "import pandas as pd\n",
    "\n",
    "df1 = pd.read_csv('raw_customer.csv')\n",
    "df2 = pd.read_csv('raw_orders.csv')\n",
    "print(df1.columns)\n",
    "print(df2.columns)"
   ]
  },
  {
   "cell_type": "markdown",
   "id": "ce826b8a",
   "metadata": {},
   "source": [
    "## 2. 欄位名稱轉換與資料標準化"
   ]
  },
  {
   "cell_type": "code",
   "execution_count": null,
   "id": "b0c70c54",
   "metadata": {},
   "outputs": [],
   "source": [
    "df1 = df1.rename(columns={'姓名': 'name', '會員編號': 'member_id'})\n",
    "df1['email'] = df1['email'].str.lower()"
   ]
  },
  {
   "cell_type": "markdown",
   "id": "2158c607",
   "metadata": {},
   "source": [
    "## 3. 合併資料表（join）"
   ]
  },
  {
   "cell_type": "code",
   "execution_count": null,
   "id": "aba198e0",
   "metadata": {},
   "outputs": [],
   "source": [
    "merged = pd.merge(df2, df1, on='member_id', how='left')\n",
    "merged.head()"
   ]
  },
  {
   "cell_type": "markdown",
   "id": "76df958a",
   "metadata": {},
   "source": [
    "## 4. 日期格式標準化"
   ]
  },
  {
   "cell_type": "code",
   "execution_count": null,
   "id": "de55e416",
   "metadata": {},
   "outputs": [],
   "source": [
    "merged['order_date'] = pd.to_datetime(merged['order_date'], errors='coerce')"
   ]
  },
  {
   "cell_type": "markdown",
   "id": "7c2da58c",
   "metadata": {},
   "source": [
    "## 5. 類別值映射與資料分群"
   ]
  },
  {
   "cell_type": "code",
   "execution_count": null,
   "id": "5d4dae49",
   "metadata": {},
   "outputs": [],
   "source": [
    "merged['level'] = merged['member_level'].map({'A': '金', 'B': '銀', 'C': '銅'})"
   ]
  }
 ],
 "metadata": {},
 "nbformat": 4,
 "nbformat_minor": 5
}