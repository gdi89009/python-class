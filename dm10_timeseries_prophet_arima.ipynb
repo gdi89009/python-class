{
 "cells": [
  {
   "cell_type": "markdown",
   "id": "e995afad",
   "metadata": {},
   "source": [
    "# 模型演算者第十章（進階）：時間序列預測\n",
    "使用 Prophet 與 ARIMA 模型預測房價趨勢"
   ]
  },
  {
   "cell_type": "markdown",
   "id": "671881b3",
   "metadata": {},
   "source": [
    "## 1. Prophet 安裝與匯入"
   ]
  },
  {
   "cell_type": "code",
   "execution_count": null,
   "id": "b53612a4",
   "metadata": {},
   "outputs": [],
   "source": [
    "# 安裝（需在終端機）\n",
    "# pip install prophet\n",
    "\n",
    "import pandas as pd\n",
    "from prophet import Prophet\n",
    "import matplotlib.pyplot as plt"
   ]
  },
  {
   "cell_type": "markdown",
   "id": "77aa6526",
   "metadata": {},
   "source": [
    "## 2. 載入並整理時間序列資料"
   ]
  },
  {
   "cell_type": "code",
   "execution_count": null,
   "id": "e115840e",
   "metadata": {},
   "outputs": [],
   "source": [
    "df = pd.read_csv('house_monthly_price.csv')\n",
    "df.columns = ['ds', 'y']  # Prophet 需求欄位名稱為 ds（日期）與 y（目標值）\n",
    "df['ds'] = pd.to_datetime(df['ds'])\n",
    "df.tail()"
   ]
  },
  {
   "cell_type": "markdown",
   "id": "e88f2678",
   "metadata": {},
   "source": [
    "## 3. Prophet 預測"
   ]
  },
  {
   "cell_type": "code",
   "execution_count": null,
   "id": "4ce538d5",
   "metadata": {},
   "outputs": [],
   "source": [
    "model = Prophet()\n",
    "model.fit(df)\n",
    "future = model.make_future_dataframe(periods=6, freq='M')\n",
    "forecast = model.predict(future)\n",
    "model.plot(forecast)\n",
    "plt.show()"
   ]
  },
  {
   "cell_type": "markdown",
   "id": "bc1a1cc6",
   "metadata": {},
   "source": [
    "## 4. ARIMA 模型"
   ]
  },
  {
   "cell_type": "code",
   "execution_count": null,
   "id": "a603ec75",
   "metadata": {},
   "outputs": [],
   "source": [
    "from statsmodels.tsa.arima.model import ARIMA\n",
    "\n",
    "# 轉為時間序列索引\n",
    "ts = df.set_index('ds')['y']\n",
    "model_arima = ARIMA(ts, order=(1,1,1))\n",
    "model_fit = model_arima.fit()\n",
    "forecast_arima = model_fit.forecast(steps=6)\n",
    "print(forecast_arima)"
   ]
  }
 ],
 "metadata": {},
 "nbformat": 4,
 "nbformat_minor": 5
}