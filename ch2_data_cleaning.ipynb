{
 "cells": [
  {
   "cell_type": "markdown",
   "id": "21d3881d",
   "metadata": {},
   "source": [
    "# 第二章：資料讀取與清理\n",
    "學習如何使用 pandas 套件讀取、檢視與清理資料。"
   ]
  },
  {
   "cell_type": "markdown",
   "id": "3b3c8e50",
   "metadata": {},
   "source": [
    "## 1. 資料讀取"
   ]
  },
  {
   "cell_type": "code",
   "execution_count": null,
   "id": "f55d6c25",
   "metadata": {},
   "outputs": [],
   "source": [
    "import pandas as pd\n",
    "\n",
    "df = pd.read_csv('student_scores.csv')\n",
    "df.head()"
   ]
  },
  {
   "cell_type": "markdown",
   "id": "2381c4e3",
   "metadata": {},
   "source": [
    "## 2. 資料基本檢視"
   ]
  },
  {
   "cell_type": "code",
   "execution_count": null,
   "id": "4ce4599e",
   "metadata": {},
   "outputs": [],
   "source": [
    "df.info()\n",
    "df.describe()"
   ]
  },
  {
   "cell_type": "markdown",
   "id": "c2fb3cc4",
   "metadata": {},
   "source": [
    "## 3. 缺值處理"
   ]
  },
  {
   "cell_type": "code",
   "execution_count": null,
   "id": "6a1dd2b1",
   "metadata": {},
   "outputs": [],
   "source": [
    "print(df.isnull().sum())\n",
    "df['math_score'] = df['math_score'].fillna(df['math_score'].mean())"
   ]
  },
  {
   "cell_type": "markdown",
   "id": "dcddb74b",
   "metadata": {},
   "source": [
    "## 4. 欄位篩選與轉換"
   ]
  },
  {
   "cell_type": "code",
   "execution_count": null,
   "id": "89898c67",
   "metadata": {},
   "outputs": [],
   "source": [
    "selected = df[['name', 'math_score']]\n",
    "selected = selected.rename(columns={'math_score': 'Math'})\n",
    "selected.head()"
   ]
  },
  {
   "cell_type": "markdown",
   "id": "5ea400b4",
   "metadata": {},
   "source": [
    "## 5. 儲存處理後資料"
   ]
  },
  {
   "cell_type": "code",
   "execution_count": null,
   "id": "7135f9c0",
   "metadata": {},
   "outputs": [],
   "source": [
    "selected.to_csv('cleaned_scores.csv', index=False)"
   ]
  }
 ],
 "metadata": {},
 "nbformat": 4,
 "nbformat_minor": 5
}