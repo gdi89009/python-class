{
 "cells": [
  {
   "cell_type": "markdown",
   "id": "cdbe7d18",
   "metadata": {},
   "source": [
    "# 模型演算者期末專題：房價預測應用"
   ]
  },
  {
   "cell_type": "markdown",
   "id": "4b5ee99d",
   "metadata": {},
   "source": [
    "本專題將整合整個流程：資料前處理 → 模型訓練 → 預測 → 視覺化"
   ]
  },
  {
   "cell_type": "markdown",
   "id": "31817c5c",
   "metadata": {},
   "source": [
    "## 1. 載入與清理資料"
   ]
  },
  {
   "cell_type": "code",
   "execution_count": null,
   "id": "207dd365",
   "metadata": {},
   "outputs": [],
   "source": [
    "import pandas as pd\n",
    "from sklearn.linear_model import LinearRegression\n",
    "from sklearn.model_selection import train_test_split\n",
    "import matplotlib.pyplot as plt\n",
    "\n",
    "# 載入資料\n",
    "df = pd.read_csv('house_data_project.csv')\n",
    "df.dropna(inplace=True)\n",
    "X = df[['area']]\n",
    "y = df['price']"
   ]
  },
  {
   "cell_type": "markdown",
   "id": "8de740e6",
   "metadata": {},
   "source": [
    "## 2. 建立模型並訓練"
   ]
  },
  {
   "cell_type": "code",
   "execution_count": null,
   "id": "d6f6ca38",
   "metadata": {},
   "outputs": [],
   "source": [
    "X_train, X_test, y_train, y_test = train_test_split(X, y, test_size=0.2, random_state=0)\n",
    "model = LinearRegression()\n",
    "model.fit(X_train, y_train)\n",
    "print('R2:', model.score(X_test, y_test))"
   ]
  },
  {
   "cell_type": "markdown",
   "id": "72f45d2e",
   "metadata": {},
   "source": [
    "## 3. 做出預測"
   ]
  },
  {
   "cell_type": "code",
   "execution_count": null,
   "id": "4a422eda",
   "metadata": {},
   "outputs": [],
   "source": [
    "y_pred = model.predict(X_test)\n",
    "pred_df = pd.DataFrame({'Actual': y_test, 'Predicted': y_pred})\n",
    "pred_df.head()"
   ]
  },
  {
   "cell_type": "markdown",
   "id": "e270cb6e",
   "metadata": {},
   "source": [
    "## 4. 畫出預測結果"
   ]
  },
  {
   "cell_type": "code",
   "execution_count": null,
   "id": "71feafb3",
   "metadata": {},
   "outputs": [],
   "source": [
    "plt.figure(figsize=(8,6))\n",
    "plt.scatter(X_test, y_test, label='Actual')\n",
    "plt.scatter(X_test, y_pred, label='Predicted', marker='x')\n",
    "plt.xlabel('Area')\n",
    "plt.ylabel('Price')\n",
    "plt.title('房價預測圖')\n",
    "plt.legend()\n",
    "plt.grid()\n",
    "plt.tight_layout()\n",
    "plt.savefig('house_price_prediction.png')\n",
    "plt.show()"
   ]
  }
 ],
 "metadata": {},
 "nbformat": 4,
 "nbformat_minor": 5
}