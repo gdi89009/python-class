{
 "cells": [
  {
   "cell_type": "markdown",
   "id": "9905346e",
   "metadata": {},
   "source": [
    "# 模型演算者第七章（進階）：模型解釋與特徵重要性\n",
    "使用 SHAP、Feature Importance、Permutation Importance 解釋模型"
   ]
  },
  {
   "cell_type": "markdown",
   "id": "8084053f",
   "metadata": {},
   "source": [
    "## 1. 匯入資料與訓練模型"
   ]
  },
  {
   "cell_type": "code",
   "execution_count": null,
   "id": "f717f359",
   "metadata": {},
   "outputs": [],
   "source": [
    "import pandas as pd\n",
    "from sklearn.ensemble import RandomForestRegressor\n",
    "from sklearn.model_selection import train_test_split\n",
    "from sklearn.inspection import permutation_importance\n",
    "import shap\n",
    "import matplotlib.pyplot as plt\n",
    "\n",
    "# 載入資料\n",
    "df = pd.read_csv('feature_house.csv')\n",
    "X = df[['area', 'bedrooms', 'distance_to_mrt']]\n",
    "y = df['price']\n",
    "\n",
    "X_train, X_test, y_train, y_test = train_test_split(X, y, random_state=42)\n",
    "model = RandomForestRegressor(random_state=42)\n",
    "model.fit(X_train, y_train)"
   ]
  },
  {
   "cell_type": "markdown",
   "id": "24f9afd7",
   "metadata": {},
   "source": [
    "## 2. 特徵重要性（Feature Importance）"
   ]
  },
  {
   "cell_type": "code",
   "execution_count": null,
   "id": "4aab8e6e",
   "metadata": {},
   "outputs": [],
   "source": [
    "importances = model.feature_importances_\n",
    "for name, score in zip(X.columns, importances):\n",
    "    print(f'{name}: {score:.4f}')"
   ]
  },
  {
   "cell_type": "markdown",
   "id": "a6eac51e",
   "metadata": {},
   "source": [
    "## 3. Permutation Importance"
   ]
  },
  {
   "cell_type": "code",
   "execution_count": null,
   "id": "133555c0",
   "metadata": {},
   "outputs": [],
   "source": [
    "perm = permutation_importance(model, X_test, y_test, n_repeats=10, random_state=0)\n",
    "for i in perm.importances_mean.argsort()[::-1]:\n",
    "    print(f'{X.columns[i]}: {perm.importances_mean[i]:.4f}')"
   ]
  },
  {
   "cell_type": "markdown",
   "id": "2b529c66",
   "metadata": {},
   "source": [
    "## 4. SHAP 解釋"
   ]
  },
  {
   "cell_type": "code",
   "execution_count": null,
   "id": "c9fbee24",
   "metadata": {},
   "outputs": [],
   "source": [
    "explainer = shap.Explainer(model, X_test)\n",
    "shap_values = explainer(X_test)\n",
    "shap.plots.beeswarm(shap_values)"
   ]
  }
 ],
 "metadata": {},
 "nbformat": 4,
 "nbformat_minor": 5
}