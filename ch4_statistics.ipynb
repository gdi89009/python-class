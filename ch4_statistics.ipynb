{
 "cells": [
  {
   "cell_type": "markdown",
   "id": "6a74ab34",
   "metadata": {},
   "source": [
    "# 第四章：基礎統計分析\n",
    "本章介紹如何使用 pandas 和 numpy 進行資料的描述性統計分析。"
   ]
  },
  {
   "cell_type": "markdown",
   "id": "c0b7bcdf",
   "metadata": {},
   "source": [
    "## 1. 匯入資料"
   ]
  },
  {
   "cell_type": "code",
   "execution_count": null,
   "id": "2d77ec76",
   "metadata": {},
   "outputs": [],
   "source": [
    "import pandas as pd\n",
    "import numpy as np\n",
    "\n",
    "df = pd.read_csv('students_scores.csv')\n",
    "df.head()"
   ]
  },
  {
   "cell_type": "markdown",
   "id": "c2014e64",
   "metadata": {},
   "source": [
    "## 2. 計算平均數、中位數、標準差"
   ]
  },
  {
   "cell_type": "code",
   "execution_count": null,
   "id": "9049be84",
   "metadata": {},
   "outputs": [],
   "source": [
    "print('平均數:', df['score'].mean())\n",
    "print('中位數:', df['score'].median())\n",
    "print('標準差:', df['score'].std())"
   ]
  },
  {
   "cell_type": "markdown",
   "id": "c790501f",
   "metadata": {},
   "source": [
    "## 3. 使用 describe() 產生統計摘要"
   ]
  },
  {
   "cell_type": "code",
   "execution_count": null,
   "id": "7bb4c35f",
   "metadata": {},
   "outputs": [],
   "source": [
    "df['score'].describe()"
   ]
  },
  {
   "cell_type": "markdown",
   "id": "e185f4d7",
   "metadata": {},
   "source": [
    "## 4. 分組統計"
   ]
  },
  {
   "cell_type": "code",
   "execution_count": null,
   "id": "f4cdd875",
   "metadata": {},
   "outputs": [],
   "source": [
    "df.groupby('subject')['score'].mean()"
   ]
  },
  {
   "cell_type": "markdown",
   "id": "c3bd4abf",
   "metadata": {},
   "source": [
    "## 5. 以條圖視覺化各科平均"
   ]
  },
  {
   "cell_type": "code",
   "execution_count": null,
   "id": "49747ccc",
   "metadata": {},
   "outputs": [],
   "source": [
    "import matplotlib.pyplot as plt\n",
    "\n",
    "subject_means = df.groupby('subject')['score'].mean()\n",
    "subject_means.plot(kind='bar')\n",
    "plt.title('各科平均分數')\n",
    "plt.ylabel('平均分數')\n",
    "plt.show()"
   ]
  }
 ],
 "metadata": {},
 "nbformat": 4,
 "nbformat_minor": 5
}