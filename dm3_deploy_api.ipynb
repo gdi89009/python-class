{
 "cells": [
  {
   "cell_type": "markdown",
   "id": "42868dff",
   "metadata": {},
   "source": [
    "# 模型演算者第三章：模型部署與 API 建立\n",
    "使用 Flask 建立簡單的預測 API 並回傳模型結果"
   ]
  },
  {
   "cell_type": "markdown",
   "id": "5b01a694",
   "metadata": {},
   "source": [
    "## 1. 建立模型與儲存"
   ]
  },
  {
   "cell_type": "code",
   "execution_count": null,
   "id": "188fde71",
   "metadata": {},
   "outputs": [],
   "source": [
    "import pandas as pd\n",
    "from sklearn.linear_model import LinearRegression\n",
    "import joblib\n",
    "\n",
    "# 訓練簡單模型\n",
    "df = pd.read_csv('house_data_processed.csv')\n",
    "X = df[['area']]\n",
    "y = df['price']\n",
    "model = LinearRegression()\n",
    "model.fit(X, y)\n",
    "\n",
    "# 儲存模型\n",
    "joblib.dump(model, 'model.pkl')"
   ]
  },
  {
   "cell_type": "markdown",
   "id": "04eb241d",
   "metadata": {},
   "source": [
    "## 2. 建立 Flask API"
   ]
  },
  {
   "cell_type": "code",
   "execution_count": null,
   "id": "f7e95ca9",
   "metadata": {},
   "outputs": [],
   "source": [
    "from flask import Flask, request, jsonify\n",
    "import joblib\n",
    "import numpy as np\n",
    "\n",
    "app = Flask(__name__)\n",
    "model = joblib.load('model.pkl')\n",
    "\n",
    "@app.route('/predict', methods=['POST'])\n",
    "def predict():\n",
    "    data = request.get_json()\n",
    "    area = data.get('area')\n",
    "    pred = model.predict(np.array([[area]]))\n",
    "    return jsonify({'predicted_price': pred[0]})\n",
    "\n",
    "# if __name__ == '__main__':\n",
    "#     app.run(debug=True)"
   ]
  },
  {
   "cell_type": "markdown",
   "id": "179ca4ef",
   "metadata": {},
   "source": [
    "## 3. 使用 curl 測試 API"
   ]
  },
  {
   "cell_type": "code",
   "execution_count": null,
   "id": "186592e7",
   "metadata": {},
   "outputs": [],
   "source": [
    "'''\n",
    "curl -X POST http://127.0.0.1:5000/predict \\\n",
    "-H \"Content-Type: application/json\" \\\n",
    "-d '{\"area\": 55}'\n",
    "'''"
   ]
  },
  {
   "cell_type": "markdown",
   "id": "e5db0486",
   "metadata": {},
   "source": [
    "## 注意事項"
   ]
  },
  {
   "cell_type": "markdown",
   "id": "95f12adf",
   "metadata": {},
   "source": [
    "此 Flask 應用需在本機啟動執行，不能在 Notebook 中直接啟動。"
   ]
  }
 ],
 "metadata": {},
 "nbformat": 4,
 "nbformat_minor": 5
}