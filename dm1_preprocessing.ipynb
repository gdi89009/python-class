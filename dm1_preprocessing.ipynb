{
 "cells": [
  {
   "cell_type": "markdown",
   "id": "ac0a32e2",
   "metadata": {},
   "source": [
    "# 模型演算者第一章：資料前處理與特徵工程\n",
    "使用 sklearn 與 pandas 進行清理、轉換與特徵準備。"
   ]
  },
  {
   "cell_type": "markdown",
   "id": "a55b6790",
   "metadata": {},
   "source": [
    "## 1. 匯入資料與套件"
   ]
  },
  {
   "cell_type": "code",
   "execution_count": null,
   "id": "66a9673e",
   "metadata": {},
   "outputs": [],
   "source": [
    "import pandas as pd\n",
    "from sklearn.impute import SimpleImputer\n",
    "from sklearn.preprocessing import StandardScaler, OneHotEncoder\n",
    "\n",
    "df = pd.read_csv('house_data.csv')\n",
    "df.head()"
   ]
  },
  {
   "cell_type": "markdown",
   "id": "222a7627",
   "metadata": {},
   "source": [
    "## 2. 處理缺值"
   ]
  },
  {
   "cell_type": "code",
   "execution_count": null,
   "id": "ede141ef",
   "metadata": {},
   "outputs": [],
   "source": [
    "imp = SimpleImputer(strategy='mean')\n",
    "df['area'] = imp.fit_transform(df[['area']])"
   ]
  },
  {
   "cell_type": "markdown",
   "id": "8f43cdbb",
   "metadata": {},
   "source": [
    "## 3. 數值標準化"
   ]
  },
  {
   "cell_type": "code",
   "execution_count": null,
   "id": "ab30c86a",
   "metadata": {},
   "outputs": [],
   "source": [
    "scaler = StandardScaler()\n",
    "df[['price_scaled']] = scaler.fit_transform(df[['price']])"
   ]
  },
  {
   "cell_type": "markdown",
   "id": "2e267ec0",
   "metadata": {},
   "source": [
    "## 4. 類別欄位編碼"
   ]
  },
  {
   "cell_type": "code",
   "execution_count": null,
   "id": "1566b8dd",
   "metadata": {},
   "outputs": [],
   "source": [
    "ohe = OneHotEncoder(sparse=False)\n",
    "ohe_result = ohe.fit_transform(df[['location']])\n",
    "ohe_df = pd.DataFrame(ohe_result, columns=ohe.get_feature_names_out(['location']))\n",
    "df = pd.concat([df, ohe_df], axis=1)"
   ]
  },
  {
   "cell_type": "markdown",
   "id": "3104e632",
   "metadata": {},
   "source": [
    "## 5. 特徵衍生"
   ]
  },
  {
   "cell_type": "code",
   "execution_count": null,
   "id": "bf4a2444",
   "metadata": {},
   "outputs": [],
   "source": [
    "df['price_per_area'] = df['price'] / df['area']"
   ]
  },
  {
   "cell_type": "markdown",
   "id": "e14bd4fa",
   "metadata": {},
   "source": [
    "## 6. 儲存處理後資料"
   ]
  },
  {
   "cell_type": "code",
   "execution_count": null,
   "id": "30764181",
   "metadata": {},
   "outputs": [],
   "source": [
    "df.to_csv('house_data_processed.csv', index=False)"
   ]
  }
 ],
 "metadata": {},
 "nbformat": 4,
 "nbformat_minor": 5
}