{
 "cells": [
  {
   "cell_type": "markdown",
   "id": "3d9b1e17",
   "metadata": {},
   "source": [
    "# 第六章：專題實作 - 顧客銷售分析報告\n",
    "綜合運用前五章所學，分析顧客行為與銷售趨勢。"
   ]
  },
  {
   "cell_type": "markdown",
   "id": "476f4df6",
   "metadata": {},
   "source": [
    "## 1. 匯入資料"
   ]
  },
  {
   "cell_type": "code",
   "execution_count": null,
   "id": "423f1dcb",
   "metadata": {},
   "outputs": [],
   "source": [
    "import pandas as pd\n",
    "import matplotlib.pyplot as plt\n",
    "import seaborn as sns\n",
    "\n",
    "df = pd.read_csv('customer_sales.csv')\n",
    "df.head()"
   ]
  },
  {
   "cell_type": "markdown",
   "id": "438d0bd2",
   "metadata": {},
   "source": [
    "## 2. 整理資料：處理缺值與轉換"
   ]
  },
  {
   "cell_type": "code",
   "execution_count": null,
   "id": "03ff207c",
   "metadata": {},
   "outputs": [],
   "source": [
    "df['age'] = df['age'].fillna(df['age'].mean())\n",
    "df['gender'] = df['gender'].fillna('未知')"
   ]
  },
  {
   "cell_type": "markdown",
   "id": "90ff46d0",
   "metadata": {},
   "source": [
    "## 3. 描述性統計"
   ]
  },
  {
   "cell_type": "code",
   "execution_count": null,
   "id": "6cb8a33e",
   "metadata": {},
   "outputs": [],
   "source": [
    "df.describe(include='all')"
   ]
  },
  {
   "cell_type": "markdown",
   "id": "2d4a72cb",
   "metadata": {},
   "source": [
    "## 4. 視覺化分析"
   ]
  },
  {
   "cell_type": "code",
   "execution_count": null,
   "id": "d4d3aaec",
   "metadata": {},
   "outputs": [],
   "source": [
    "sns.boxplot(x='gender', y='purchase_amount', data=df)\n",
    "plt.title('各性別消費金額分布')\n",
    "plt.show()"
   ]
  },
  {
   "cell_type": "markdown",
   "id": "e4eb3b11",
   "metadata": {},
   "source": [
    "## 5. 分群觀察"
   ]
  },
  {
   "cell_type": "code",
   "execution_count": null,
   "id": "df44ecf3",
   "metadata": {},
   "outputs": [],
   "source": [
    "df['age_group'] = pd.cut(df['age'], bins=[0, 30, 50, 100], labels=['青年', '壯年', '老年'])\n",
    "grouped = df.groupby(['age_group', 'gender'])['purchase_amount'].mean().unstack()\n",
    "grouped.plot(kind='bar')"
   ]
  },
  {
   "cell_type": "markdown",
   "id": "f35192ad",
   "metadata": {},
   "source": [
    "## 6. 結論撰寫"
   ]
  },
  {
   "cell_type": "markdown",
   "id": "353269f7",
   "metadata": {},
   "source": [
    "根據上方分析，我們觀察到壯年女性顧客在消費金額上佔有優勢，建議行銷策略應針對此族群加強推廣。"
   ]
  }
 ],
 "metadata": {},
 "nbformat": 4,
 "nbformat_minor": 5
}